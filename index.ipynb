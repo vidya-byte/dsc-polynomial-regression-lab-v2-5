{
 "cells": [
  {
   "cell_type": "markdown",
   "metadata": {},
   "source": [
    "# Polynomial Regression - Lab"
   ]
  },
  {
   "cell_type": "markdown",
   "metadata": {},
   "source": [
    "## Introduction"
   ]
  },
  {
   "cell_type": "markdown",
   "metadata": {},
   "source": [
    "In this lab, you'll practice your knowledge on adding polynomial terms to your regression model! "
   ]
  },
  {
   "cell_type": "markdown",
   "metadata": {},
   "source": [
    "## Objectives"
   ]
  },
  {
   "cell_type": "markdown",
   "metadata": {},
   "source": [
    "You will be able to:\n",
    "\n",
    "* Determine if polynomial regression would be useful for a specific model or set of data\n",
    "* Create polynomial terms out of independent variables in linear regression"
   ]
  },
  {
   "cell_type": "markdown",
   "metadata": {},
   "source": [
    "## Dataset"
   ]
  },
  {
   "cell_type": "markdown",
   "metadata": {},
   "source": [
    "For this lab you'll be using some generated data:"
   ]
  },
  {
   "cell_type": "code",
   "execution_count": 1,
   "metadata": {},
   "outputs": [
    {
     "data": {
      "text/html": [
       "<div>\n",
       "<style scoped>\n",
       "    .dataframe tbody tr th:only-of-type {\n",
       "        vertical-align: middle;\n",
       "    }\n",
       "\n",
       "    .dataframe tbody tr th {\n",
       "        vertical-align: top;\n",
       "    }\n",
       "\n",
       "    .dataframe thead th {\n",
       "        text-align: right;\n",
       "    }\n",
       "</style>\n",
       "<table border=\"1\" class=\"dataframe\">\n",
       "  <thead>\n",
       "    <tr style=\"text-align: right;\">\n",
       "      <th></th>\n",
       "      <th>x</th>\n",
       "      <th>y</th>\n",
       "    </tr>\n",
       "  </thead>\n",
       "  <tbody>\n",
       "    <tr>\n",
       "      <th>0</th>\n",
       "      <td>0.000000</td>\n",
       "      <td>0.942870</td>\n",
       "    </tr>\n",
       "    <tr>\n",
       "      <th>1</th>\n",
       "      <td>0.121212</td>\n",
       "      <td>-2.261629</td>\n",
       "    </tr>\n",
       "    <tr>\n",
       "      <th>2</th>\n",
       "      <td>0.242424</td>\n",
       "      <td>3.100749</td>\n",
       "    </tr>\n",
       "    <tr>\n",
       "      <th>3</th>\n",
       "      <td>0.363636</td>\n",
       "      <td>-0.285446</td>\n",
       "    </tr>\n",
       "    <tr>\n",
       "      <th>4</th>\n",
       "      <td>0.484848</td>\n",
       "      <td>-1.012210</td>\n",
       "    </tr>\n",
       "  </tbody>\n",
       "</table>\n",
       "</div>"
      ],
      "text/plain": [
       "          x         y\n",
       "0  0.000000  0.942870\n",
       "1  0.121212 -2.261629\n",
       "2  0.242424  3.100749\n",
       "3  0.363636 -0.285446\n",
       "4  0.484848 -1.012210"
      ]
     },
     "execution_count": 1,
     "metadata": {},
     "output_type": "execute_result"
    }
   ],
   "source": [
    "# Run this cell without changes\n",
    "import numpy as np\n",
    "import pandas as pd\n",
    "import matplotlib.pyplot as plt\n",
    "%matplotlib inline\n",
    "\n",
    "df = pd.read_csv('sample_data.csv')\n",
    "df.head()"
   ]
  },
  {
   "cell_type": "markdown",
   "metadata": {},
   "source": [
    "Let's check out a scatter plot of `x` vs. `y`: "
   ]
  },
  {
   "cell_type": "code",
   "execution_count": 2,
   "metadata": {},
   "outputs": [
    {
     "data": {
      "image/png": "[encoded data removed]",
      "text/plain": [
       "<Figure size 432x288 with 1 Axes>"
      ]
     },
     "metadata": {
      "needs_background": "light"
     },
     "output_type": "display_data"
    }
   ],
   "source": [
    "# Run this cell without changes\n",
    "df.plot.scatter(x=\"x\", y=\"y\");"
   ]
  },
  {
   "cell_type": "markdown",
   "metadata": {},
   "source": [
    "You will notice that the data is clearly of non-linear shape. Begin to think about what degree polynomial you believe will fit it best.\n",
    "\n",
    "You will fit several different models with different polynomial degrees, then plot them in the same plot at the end."
   ]
  },
  {
   "cell_type": "code",
   "execution_count": 3,
   "metadata": {},
   "outputs": [],
   "source": [
    "# Your code here - import StatsModels and separate the data into X and y\n",
    "import statsmodels.api as sm\n",
    "\n",
    "X = df['x']  \n",
    "y = df['y'] \n",
    "\n",
    "X = sm.add_constant(X)  \n"
   ]
  },
  {
   "cell_type": "markdown",
   "metadata": {},
   "source": [
    "## Build and Evaluate a Quadratic Model\n",
    "\n",
    "This model should include a constant, `x`, and `x` squared. You can use `pandas` or `PolynomialFeatures` to create the squared term."
   ]
  },
  {
   "cell_type": "code",
   "execution_count": 4,
   "metadata": {},
   "outputs": [],
   "source": [
    "# Your code here - prepare quadratic data and fit a model\n",
    "# Create the squared term\n",
    "df['x_squared'] = df['x'] ** 2\n",
    "\n",
    "# Prepare the independent variables (X) with constant, x, and x_squared\n",
    "X_quadratic = df[['x', 'x_squared']]\n",
    "X_quadratic = sm.add_constant(X_quadratic) \n",
    "y = df['y']\n"
   ]
  },
  {
   "cell_type": "code",
   "execution_count": 5,
   "metadata": {},
   "outputs": [
    {
     "name": "stdout",
     "output_type": "stream",
     "text": [
      "                            OLS Regression Results                            \n",
      "==============================================================================\n",
      "Dep. Variable:                      y   R-squared:                       0.005\n",
      "Model:                            OLS   Adj. R-squared:                 -0.016\n",
      "Method:                 Least Squares   F-statistic:                    0.2366\n",
      "Date:                Sat, 16 Nov 2024   Prob (F-statistic):              0.790\n",
      "Time:                        19:27:09   Log-Likelihood:                -299.64\n",
      "No. Observations:                 100   AIC:                             605.3\n",
      "Df Residuals:                      97   BIC:                             613.1\n",
      "Df Model:                           2                                         \n",
      "Covariance Type:            nonrobust                                         \n",
      "==============================================================================\n",
      "                 coef    std err          t      P>|t|      [0.025      0.975]\n",
      "------------------------------------------------------------------------------\n",
      "const          0.1127      1.446      0.078      0.938      -2.757       2.983\n",
      "x             -0.0744      0.557     -0.134      0.894      -1.180       1.031\n",
      "x_squared     -0.0018      0.045     -0.041      0.967      -0.091       0.087\n",
      "==============================================================================\n",
      "Omnibus:                        1.048   Durbin-Watson:                   0.426\n",
      "Prob(Omnibus):                  0.592   Jarque-Bera (JB):                0.803\n",
      "Skew:                          -0.219   Prob(JB):                        0.669\n",
      "Kurtosis:                       3.037   Cond. No.                         203.\n",
      "==============================================================================\n",
      "\n",
      "Notes:\n",
      "[1] Standard Errors assume that the covariance matrix of the errors is correctly specified.\n"
     ]
    }
   ],
   "source": [
    "# Your code here - evaluate (adjusted) R-Squared and coefficient p-values\n",
    "# Fit the quadratic model\n",
    "model = sm.OLS(y, X_quadratic)  \n",
    "results = model.fit()\n",
    "print(results.summary())\n"
   ]
  },
  {
   "cell_type": "code",
   "execution_count": 6,
   "metadata": {},
   "outputs": [
    {
     "data": {
      "text/plain": [
       "'\\ngenerally, this is not a good model.\\nAdjusted R-squared: Indicates the proportion of variance explained by the model after adjusting for the number of predictors.\\nP-values: If the p-value is less than a significance level (usually 0.05), the variable is considered significant. \\nHere, the p-values for all coefficients are very small, indicating significance.\\n'"
      ]
     },
     "execution_count": 6,
     "metadata": {},
     "output_type": "execute_result"
    }
   ],
   "source": [
    "# Your written answer here - summarize findings\n",
    "\"\"\"\n",
    "generally, this is not a good model.\n",
    "Adjusted R-squared: Indicates the proportion of variance explained by the model after adjusting for the number of predictors.\n",
    "P-values: If the p-value is less than a significance level (usually 0.05), the variable is considered significant. \n",
    "Here, the p-values for all coefficients are very small, indicating significance.\n",
    "\"\"\""
   ]
  },
  {
   "cell_type": "markdown",
   "metadata": {},
   "source": [
    "<details>\n",
    "    <summary style=\"cursor: pointer\"><b>Answer (click to reveal)</b></summary>\n",
    "    \n",
    "This is not a good model. Because we have multiple terms and are explaining so little of the variance in `y`, we actually have a negative adjusted R-Squared.\n",
    "\n",
    "None of the coefficients are statistically significant at an alpha of 0.05\n",
    "    \n",
    "</details>"
   ]
  },
  {
   "cell_type": "markdown",
   "metadata": {},
   "source": [
    "## Build and Evaluate a 4th Degree Polynomial Model\n",
    "\n",
    "In other words, the model should include $x^0$ (intercept), $x^1$, $x^2$, $x^3$, and $x^4$ terms.\n",
    "\n",
    "At this point we recommend importing and using `PolynomialFeatures` if you haven't already!"
   ]
  },
  {
   "cell_type": "code",
   "execution_count": 7,
   "metadata": {},
   "outputs": [],
   "source": [
    "# Your code here - prepare 4th degree polynomial data and fit a model\n",
    "from sklearn.preprocessing import PolynomialFeatures\n",
    "\n",
    "# Initialize PolynomialFeatures for degree 4\n",
    "poly = PolynomialFeatures(degree=4)\n",
    "X_poly = poly.fit_transform(df[['x']])\n",
    "X_poly_df = pd.DataFrame(X_poly, columns=['const', 'x', 'x^2', 'x^3', 'x^4'])\n",
    "\n",
    "y = df['y']\n"
   ]
  },
  {
   "cell_type": "code",
   "execution_count": 8,
   "metadata": {},
   "outputs": [
    {
     "name": "stdout",
     "output_type": "stream",
     "text": [
      "                            OLS Regression Results                            \n",
      "==============================================================================\n",
      "Dep. Variable:                      y   R-squared:                       0.584\n",
      "Model:                            OLS   Adj. R-squared:                  0.567\n",
      "Method:                 Least Squares   F-statistic:                     33.38\n",
      "Date:                Sat, 16 Nov 2024   Prob (F-statistic):           2.24e-17\n",
      "Time:                        19:31:43   Log-Likelihood:                -255.99\n",
      "No. Observations:                 100   AIC:                             522.0\n",
      "Df Residuals:                      95   BIC:                             535.0\n",
      "Df Model:                           4                                         \n",
      "Covariance Type:            nonrobust                                         \n",
      "==============================================================================\n",
      "                 coef    std err          t      P>|t|      [0.025      0.975]\n",
      "------------------------------------------------------------------------------\n",
      "const          5.8590      1.514      3.870      0.000       2.853       8.864\n",
      "x            -12.6406      1.767     -7.155      0.000     -16.148      -9.133\n",
      "x^2            5.3802      0.603      8.921      0.000       4.183       6.577\n",
      "x^3           -0.7563      0.076     -9.992      0.000      -0.907      -0.606\n",
      "x^4            0.0333      0.003     10.632      0.000       0.027       0.039\n",
      "==============================================================================\n",
      "Omnibus:                        1.211   Durbin-Watson:                   1.007\n",
      "Prob(Omnibus):                  0.546   Jarque-Bera (JB):                1.177\n",
      "Skew:                          -0.257   Prob(JB):                        0.555\n",
      "Kurtosis:                       2.861   Cond. No.                     5.08e+04\n",
      "==============================================================================\n",
      "\n",
      "Notes:\n",
      "[1] Standard Errors assume that the covariance matrix of the errors is correctly specified.\n",
      "[2] The condition number is large, 5.08e+04. This might indicate that there are\n",
      "strong multicollinearity or other numerical problems.\n"
     ]
    }
   ],
   "source": [
    "# Your code here - evaluate (adjusted) R-Squared and coefficient p-values\n",
    "# Fit the 4th degree polynomial regression model\n",
    "model = sm.OLS(y, X_poly_df)  \n",
    "results = model.fit()\n",
    "print(results.summary())\n"
   ]
  },
  {
   "cell_type": "code",
   "execution_count": 9,
   "metadata": {},
   "outputs": [
    {
     "data": {
      "text/plain": [
       "'\\nAdjusted R-squared: A very high value indicates that the 4th-degree polynomial model is fitting the data extremely well.\\nP-values: If the p-values are very small (typically less than 0.05), it suggests that each term (constant, x1,x2 etc) is statistically significant\\n'"
      ]
     },
     "execution_count": 9,
     "metadata": {},
     "output_type": "execute_result"
    }
   ],
   "source": [
    "# Your written answer here - summarize findings\n",
    "\"\"\"\n",
    "Adjusted R-squared: A very high value indicates that the 4th-degree polynomial model is fitting the data extremely well.\n",
    "P-values: If the p-values are very small (typically less than 0.05), it suggests that each term (constant, x1,x2 etc) is statistically significant\n",
    "\"\"\""
   ]
  },
  {
   "cell_type": "markdown",
   "metadata": {},
   "source": [
    "<details>\n",
    "    <summary style=\"cursor: pointer\"><b>Answer (click to reveal)</b></summary>\n",
    "    \n",
    "This is much better. We are explaining 57-58% of the variance in the target and all of our coefficients are statistically significant at an alpha of 0.05.\n",
    "    \n",
    "</details>"
   ]
  },
  {
   "cell_type": "markdown",
   "metadata": {},
   "source": [
    "## Build and Evaluate an 8th Degree Polynomial Model\n",
    "\n",
    "This model should include $x^0$ through $x^8$."
   ]
  },
  {
   "cell_type": "code",
   "execution_count": 10,
   "metadata": {},
   "outputs": [],
   "source": [
    "# Your code here - prepare 8th degree polynomial data and fit a model\n",
    "poly = PolynomialFeatures(degree=8)\n",
    "X_poly = poly.fit_transform(df[['x']])\n",
    "X_poly_df = pd.DataFrame(X_poly, columns=[f'x^{i}' for i in range(9)])\n",
    "\n",
    "y = df['y']\n"
   ]
  },
  {
   "cell_type": "code",
   "execution_count": 11,
   "metadata": {},
   "outputs": [
    {
     "name": "stdout",
     "output_type": "stream",
     "text": [
      "                            OLS Regression Results                            \n",
      "==============================================================================\n",
      "Dep. Variable:                      y   R-squared:                       0.834\n",
      "Model:                            OLS   Adj. R-squared:                  0.819\n",
      "Method:                 Least Squares   F-statistic:                     56.95\n",
      "Date:                Sat, 16 Nov 2024   Prob (F-statistic):           3.93e-32\n",
      "Time:                        19:40:56   Log-Likelihood:                -210.25\n",
      "No. Observations:                 100   AIC:                             438.5\n",
      "Df Residuals:                      91   BIC:                             461.9\n",
      "Df Model:                           8                                         \n",
      "Covariance Type:            nonrobust                                         \n",
      "==============================================================================\n",
      "                 coef    std err          t      P>|t|      [0.025      0.975]\n",
      "------------------------------------------------------------------------------\n",
      "x^0            0.6335      1.550      0.409      0.684      -2.446       3.713\n",
      "x^1           -3.1197      6.237     -0.500      0.618     -15.508       9.269\n",
      "x^2            7.2069      8.019      0.899      0.371      -8.722      23.135\n",
      "x^3           -5.9515      4.602     -1.293      0.199     -15.092       3.189\n",
      "x^4            2.0415      1.388      1.471      0.145      -0.716       4.799\n",
      "x^5           -0.3359      0.236     -1.425      0.158      -0.804       0.132\n",
      "x^6            0.0276      0.023      1.220      0.226      -0.017       0.073\n",
      "x^7           -0.0011      0.001     -0.925      0.357      -0.003       0.001\n",
      "x^8         1.418e-05   2.39e-05      0.594      0.554   -3.33e-05    6.16e-05\n",
      "==============================================================================\n",
      "Omnibus:                       11.607   Durbin-Watson:                   2.456\n",
      "Prob(Omnibus):                  0.003   Jarque-Bera (JB):               12.576\n",
      "Skew:                          -0.700   Prob(JB):                      0.00186\n",
      "Kurtosis:                       4.030   Cond. No.                     5.83e+09\n",
      "==============================================================================\n",
      "\n",
      "Notes:\n",
      "[1] Standard Errors assume that the covariance matrix of the errors is correctly specified.\n",
      "[2] The condition number is large, 5.83e+09. This might indicate that there are\n",
      "strong multicollinearity or other numerical problems.\n"
     ]
    }
   ],
   "source": [
    "# Your code here - evaluate (adjusted) R-Squared and coefficient p-values\n",
    "# Fit the 8th degree polynomial regression model\n",
    "model = sm.OLS(y, X_poly_df) \n",
    "results = model.fit()\n",
    "print(results.summary())\n"
   ]
  },
  {
   "cell_type": "code",
   "execution_count": 12,
   "metadata": {},
   "outputs": [
    {
     "data": {
      "text/plain": [
       "'\\nIf the Adjusted R-squared value is very close to 1 (or 1.000), it suggests that the model is explaining almost all of the variance in the data.\\nThis is common when using higher-degree polynomials because they can \"overfit\" the data, capturing noise along with the underlying trend.\\n\\n'"
      ]
     },
     "execution_count": 12,
     "metadata": {},
     "output_type": "execute_result"
    }
   ],
   "source": [
    "# Your written answer here - summarize findings\n",
    "\"\"\"\n",
    "If the Adjusted R-squared value is very close to 1 (or 1.000), it suggests that the model is explaining almost all of the variance in the data.\n",
    "This is common when using higher-degree polynomials because they can \"overfit\" the data, capturing noise along with the underlying trend.\n",
    "\n",
    "\"\"\""
   ]
  },
  {
   "cell_type": "markdown",
   "metadata": {},
   "source": [
    "<details>\n",
    "    <summary style=\"cursor: pointer\"><b>Answer (click to reveal)</b></summary>\n",
    "    \n",
    "Our R-Squared is higher, but none of the coefficients are statistically significant at an alpha of 0.05 any more. If what we care about is an inferential understanding of the data, this is too high a degree of the polynomial.\n",
    "    \n",
    "</details>"
   ]
  },
  {
   "cell_type": "markdown",
   "metadata": {},
   "source": [
    "## Plot All Models\n",
    "\n",
    "Build a single plot that shows the raw data as a scatter plot, as well as all of the models you have developed as line graphs. Make sure that everything is labeled so you can tell the different models apart!"
   ]
  },
  {
   "cell_type": "code",
   "execution_count": 13,
   "metadata": {},
   "outputs": [
    {
     "data": {
      "image/png": "[encoded data removed]",
      "text/plain": [
       "<Figure size 720x432 with 1 Axes>"
      ]
     },
     "metadata": {
      "needs_background": "light"
     },
     "output_type": "display_data"
    }
   ],
   "source": [
    "# Your code here\n",
    "import numpy as np\n",
    "import matplotlib.pyplot as plt\n",
    "\n",
    "# Prepare data for plotting\n",
    "x_range = np.linspace(df['x'].min(), df['x'].max(), 100)\n",
    "\n",
    "# Quadratic Model (degree 2)\n",
    "poly_2 = PolynomialFeatures(degree=2)\n",
    "X_poly_2 = poly_2.fit_transform(df[['x']])\n",
    "model_2 = sm.OLS(y, X_poly_2)\n",
    "results_2 = model_2.fit()\n",
    "X_range_poly_2 = poly_2.transform(x_range.reshape(-1, 1))\n",
    "y_pred_2 = results_2.predict(X_range_poly_2)\n",
    "\n",
    "# 4th Degree Polynomial Model (degree 4)\n",
    "poly_4 = PolynomialFeatures(degree=4)\n",
    "X_poly_4 = poly_4.fit_transform(df[['x']])\n",
    "model_4 = sm.OLS(y, X_poly_4)\n",
    "results_4 = model_4.fit()\n",
    "X_range_poly_4 = poly_4.transform(x_range.reshape(-1, 1))\n",
    "y_pred_4 = results_4.predict(X_range_poly_4)\n",
    "\n",
    "# 8th Degree Polynomial Model (degree 8)\n",
    "poly_8 = PolynomialFeatures(degree=8)\n",
    "X_poly_8 = poly_8.fit_transform(df[['x']])\n",
    "model_8 = sm.OLS(y, X_poly_8)\n",
    "results_8 = model_8.fit()\n",
    "X_range_poly_8 = poly_8.transform(x_range.reshape(-1, 1))\n",
    "y_pred_8 = results_8.predict(X_range_poly_8)\n",
    "\n",
    "# Create the plot\n",
    "plt.figure(figsize=(10, 6))\n",
    "\n",
    "# Plot the original data as a scatter plot\n",
    "plt.scatter(df['x'], df['y'], label=\"Raw Data\", color='blue')\n",
    "\n",
    "# Plot each polynomial model as a line graph\n",
    "plt.plot(x_range, y_pred_2, label=\"Quadratic (degree 2)\", color='green', linewidth=2)\n",
    "plt.plot(x_range, y_pred_4, label=\"4th Degree Polynomial\", color='red', linewidth=2)\n",
    "plt.plot(x_range, y_pred_8, label=\"8th Degree Polynomial\", color='orange', linewidth=2)\n",
    "\n",
    "# Labels and title\n",
    "plt.xlabel('x')\n",
    "plt.ylabel('y')\n",
    "plt.title('Polynomial Regression Models (Quadratic, 4th, and 8th Degrees)')\n",
    "plt.legend()\n",
    "\n",
    "# Show the plot\n",
    "plt.show()\n"
   ]
  },
  {
   "cell_type": "markdown",
   "metadata": {},
   "source": [
    "### Interpret Findings\n",
    "\n",
    "Based on the metrics as well as the graphs, which model do you think is the best? Why?"
   ]
  },
  {
   "cell_type": "code",
   "execution_count": 15,
   "metadata": {},
   "outputs": [
    {
     "data": {
      "text/plain": [
       "'\\nIn evaluating the polynomial regression models (quadratic, 4th-degree, and 8th-degree), the best model is typically the 4th-degree polynomial because:\\nQuadratic Model (degree 2): Provides a simple, interpretable fit but may underfit the data if the relationship is more complex.\\n4th Degree Polynomial: Balances complexity and fit, capturing more intricate patterns without overfitting. It’s often the best choice when the data has moderate complexity.\\n8th Degree Polynomial: Fits the data very closely, but is prone to overfitting. It may capture noise along with the actual trend, leading to poor generalization on unseen data.\\n'"
      ]
     },
     "execution_count": 15,
     "metadata": {},
     "output_type": "execute_result"
    }
   ],
   "source": [
    "# Your written answer here\n",
    "\"\"\"\n",
    "In evaluating the polynomial regression models (quadratic, 4th-degree, and 8th-degree), the best model is typically the 4th-degree polynomial because:\n",
    "Quadratic Model (degree 2): Provides a simple, interpretable fit but may underfit the data if the relationship is more complex.\n",
    "4th Degree Polynomial: Balances complexity and fit, capturing more intricate patterns without overfitting. It’s often the best choice when the data has moderate complexity.\n",
    "8th Degree Polynomial: Fits the data very closely, but is prone to overfitting. It may capture noise along with the actual trend, leading to poor generalization on unseen data.\n",
    "\"\"\""
   ]
  },
  {
   "cell_type": "markdown",
   "metadata": {},
   "source": [
    "<details>\n",
    "    <summary style=\"cursor: pointer\"><b>Answer (click to reveal)</b></summary>\n",
    "    \n",
    "The quadratic model (polynomial degree 2) is definitely not the best based on all of the evidence we have. It has the worst R-Squared, the coefficient p-values are not significant, and you can see from the graph that there is a lot of variance in the data that it is not picking up on.\n",
    "\n",
    "Our visual inspection aligns with the worse R-Squared for the 4th degree polynomial compared to the 8th degree polynomial. The 4th degree polynomial is flatter and doesn't seem to capture the extremes of the data as well.\n",
    "    \n",
    "However if we wanted to interpret the coefficients, then only the 4th degree polynomial has statistically significant results. The interpretation would be challenging because of the number of terms, but we could apply some calculus techniques to describe inflection points.\n",
    "\n",
    "Overall it appears that this dataset is not particularly well suited to an inferential linear regression approach, even with polynomial transformations. So the \"best\" model could be either the 4th or 8th degree polynomial depending on which aspect of the model is more important to you, but either way it will be challenging to translate it into insights for stakeholders.\n",
    "    \n",
    "</details>"
   ]
  },
  {
   "cell_type": "markdown",
   "metadata": {},
   "source": [
    "## Summary"
   ]
  },
  {
   "cell_type": "markdown",
   "metadata": {},
   "source": [
    "Great job! You now know how to include polynomials in your linear models as well as the limitations of applying polynomial regression. "
   ]
  }
 ],
 "metadata": {
  "kernelspec": {
   "display_name": "Python (learn-env)",
   "language": "python",
   "name": "learn-env"
  },
  "language_info": {
   "codemirror_mode": {
    "name": "ipython",
    "version": 3
   },
   "file_extension": ".py",
   "mimetype": "text/x-python",
   "name": "python",
   "nbconvert_exporter": "python",
   "pygments_lexer": "ipython3",
   "version": "3.8.5"
  }
 },
 "nbformat": 4,
 "nbformat_minor": 2
}
